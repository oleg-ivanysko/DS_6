{
 "cells": [
  {
   "cell_type": "markdown",
   "metadata": {},
   "source": [
    "___\n",
    "\n",
    "<a href='https://mainacademy.ua/'> <img src='https://mainacademy.ua/wp-content/uploads/2019/03/logo-main.png' alt = 'Хмм, щось з інтернетом'/></a>\n",
    "___\n",
    "\n",
    "# Module 5: Data analysis with NumPy and Pandas"
   ]
  },
  {
   "cell_type": "markdown",
   "metadata": {},
   "source": [
    "## Lab work 5.1\n",
    "\n"
   ]
  },
  {
   "cell_type": "markdown",
   "metadata": {},
   "source": [
    "#### Мета: \n",
    "\n",
    "* навчитися працювати із бібліотекою NumPy в Python"
   ]
  },
  {
   "cell_type": "markdown",
   "metadata": {},
   "source": [
    "### Завдання:"
   ]
  },
  {
   "cell_type": "code",
   "execution_count": 1,
   "metadata": {},
   "outputs": [],
   "source": [
    "import numpy as np"
   ]
  },
  {
   "cell_type": "markdown",
   "metadata": {},
   "source": [
    "Вивести версію та конфігурацію бібліотеки:"
   ]
  },
  {
   "cell_type": "code",
   "execution_count": 2,
   "metadata": {},
   "outputs": [
    {
     "name": "stdout",
     "output_type": "stream",
     "text": [
      "1.19.2\n"
     ]
    }
   ],
   "source": [
    "print(np.__version__)\n"
   ]
  },
  {
   "cell_type": "markdown",
   "metadata": {},
   "source": [
    "Створити вектор з 10 елементів, заповнений одиницями:"
   ]
  },
  {
   "cell_type": "code",
   "execution_count": 3,
   "metadata": {},
   "outputs": [
    {
     "name": "stdout",
     "output_type": "stream",
     "text": [
      "[1. 1. 1. 1. 1. 1. 1. 1. 1. 1.]\n"
     ]
    }
   ],
   "source": [
    "print(np.ones((10)))"
   ]
  },
  {
   "cell_type": "markdown",
   "metadata": {},
   "source": [
    "Створити вектор із значеннями від 0 до 10:"
   ]
  },
  {
   "cell_type": "code",
   "execution_count": 4,
   "metadata": {},
   "outputs": [
    {
     "name": "stdout",
     "output_type": "stream",
     "text": [
      "[ 0  1  2  3  4  5  6  7  8  9 10]\n"
     ]
    }
   ],
   "source": [
    "print(np.arange(0,11))"
   ]
  },
  {
   "cell_type": "markdown",
   "metadata": {},
   "source": [
    "Створити матрицю 5 на 5, заповнену нулями:"
   ]
  },
  {
   "cell_type": "code",
   "execution_count": 5,
   "metadata": {},
   "outputs": [
    {
     "name": "stdout",
     "output_type": "stream",
     "text": [
      "[[0. 0. 0. 0. 0.]\n",
      " [0. 0. 0. 0. 0.]\n",
      " [0. 0. 0. 0. 0.]\n",
      " [0. 0. 0. 0. 0.]\n",
      " [0. 0. 0. 0. 0.]]\n"
     ]
    }
   ],
   "source": [
    "print(np.zeros((5,5)))"
   ]
  },
  {
   "cell_type": "markdown",
   "metadata": {},
   "source": [
    "Заповнити вектор з 20 елементів випадковими цілими числами. Знайти індекси ненульових елементів:"
   ]
  },
  {
   "cell_type": "code",
   "execution_count": 6,
   "metadata": {},
   "outputs": [
    {
     "name": "stdout",
     "output_type": "stream",
     "text": [
      "[0.44666984 0.3690591  0.35592796 0.35587505 0.14136533 0.46261987\n",
      " 0.37568962 0.93462093 0.10981163 0.33580458 0.17181075 0.58337715\n",
      " 0.61508937 0.5909615  0.74530573 0.4752865  0.99111649 0.78112935\n",
      " 0.79297595 0.83658233]\n",
      "(array([ 0,  1,  2,  3,  4,  5,  6,  7,  8,  9, 10, 11, 12, 13, 14, 15, 16,\n",
      "       17, 18, 19], dtype=int64),)\n"
     ]
    }
   ],
   "source": [
    "s = np.random.random(20)\n",
    "print(s)\n",
    "i = np.nonzero(s)\n",
    "print(i)"
   ]
  },
  {
   "cell_type": "markdown",
   "metadata": {},
   "source": [
    "Для вектора із попередньої задачі знайти середнє значення, медіану, стандартне відхилення:"
   ]
  },
  {
   "cell_type": "code",
   "execution_count": 7,
   "metadata": {},
   "outputs": [
    {
     "name": "stdout",
     "output_type": "stream",
     "text": [
      "Середнє значення вектора s ==> 0.523553952284818\n",
      "Медіана вектора s ==> 0.46895318664655433\n",
      "Стандартне відхилення вектора s ==> 0.25301295098496 \n",
      "\n",
      "Середнє значення вектора i ==> 9.5\n",
      "Медіана вектора i ==> 9.5\n",
      "Стандартне відхилення вектора i ==> 5.766281297335398 \n",
      "\n"
     ]
    }
   ],
   "source": [
    "print(f'Середнє значення вектора s ==> {np.mean(s)}')\n",
    "print(f'Медіана вектора s ==> {np.median(s)}')\n",
    "print(f'Стандартне відхилення вектора s ==> {np.std(s)} \\n')\n",
    "print(f'Середнє значення вектора i ==> {np.mean(i)}')\n",
    "print(f'Медіана вектора i ==> {np.median(i)}')\n",
    "print(f'Стандартне відхилення вектора i ==> {np.std(i)} \\n')"
   ]
  },
  {
   "cell_type": "markdown",
   "metadata": {},
   "source": [
    "Створити дві матриці випадкових чисел розміром 4х2 та 2х2. Перемножити їх:"
   ]
  },
  {
   "cell_type": "code",
   "execution_count": 8,
   "metadata": {},
   "outputs": [
    {
     "name": "stdout",
     "output_type": "stream",
     "text": [
      "[[0.70596219 0.91187796]\n",
      " [0.99778831 0.16953597]\n",
      " [0.33139851 0.1304089 ]\n",
      " [0.03427063 0.29927112]]\n",
      "[[0.11989669 0.79489265]\n",
      " [0.70079465 0.75596886]]\n",
      "[[0.72368173 1.2505155 ]\n",
      " [0.23844142 0.92129851]\n",
      " [0.13112344 0.36201131]\n",
      " [0.21383654 0.25348112]]\n"
     ]
    }
   ],
   "source": [
    "z = np.random.random((4,2))\n",
    "print(z)\n",
    "x = np.random.random((2,2))\n",
    "print(x)\n",
    "q = z @ x\n",
    "print(q)"
   ]
  },
  {
   "cell_type": "markdown",
   "metadata": {},
   "source": [
    "Результуючу матрицю із попередньої задачі перетворити у вектор. Знайти мінімальне та максимальне значення. \n",
    "\n",
    "Максимальне значення замінити на 0:"
   ]
  },
  {
   "cell_type": "code",
   "execution_count": 9,
   "metadata": {},
   "outputs": [
    {
     "name": "stdout",
     "output_type": "stream",
     "text": [
      "вектор ==> [[0.72368173 1.2505155  0.23844142 0.92129851 0.13112344 0.36201131\n",
      "  0.21383654 0.25348112]]\n",
      "Мінімальне значення ==> 0.1311234444578438\n",
      "Максимальне значення ==> 1.2505154967188887\n",
      "змінений вектор ==> [[0.72368173 0.         0.23844142 0.92129851 0.13112344 0.36201131\n",
      "  0.21383654 0.25348112]]\n"
     ]
    }
   ],
   "source": [
    "m = q.reshape((1,q.size)).copy()\n",
    "print(f'вектор ==> {m}')\n",
    "print(f'Мінімальне значення ==> {np.min(m)}')\n",
    "print(f'Максимальне значення ==> {np.max(m)}')\n",
    "m[m == np.max(m)] = 0\n",
    "print(f'змінений вектор ==> {m}')"
   ]
  },
  {
   "cell_type": "markdown",
   "metadata": {},
   "source": [
    "Знайдіть кореляцію першого рядка матриці із попереднього завдання із іншими рядками:"
   ]
  },
  {
   "cell_type": "code",
   "execution_count": 10,
   "metadata": {},
   "outputs": [
    {
     "name": "stdout",
     "output_type": "stream",
     "text": [
      "[[0.72368173 1.2505155 ]\n",
      " [0.23844142 0.92129851]\n",
      " [0.13112344 0.36201131]\n",
      " [0.21383654 0.25348112]]\n",
      "[[1. 1. 1. 1.]\n",
      " [1. 1. 1. 1.]\n",
      " [1. 1. 1. 1.]\n",
      " [1. 1. 1. 1.]]\n",
      "[[0.77395605 0.43887844 0.85859792]\n",
      " [0.69736803 0.09417735 0.97562235]\n",
      " [0.7611397  0.78606431 0.12811363]]\n",
      "[[ 1.          0.99256089 -0.68080987]\n",
      " [ 0.99256089  1.         -0.76492173]\n",
      " [-0.68080987 -0.76492173  1.        ]]\n"
     ]
    }
   ],
   "source": [
    "\n",
    "arry = np.array([[0.77395605, 0.43887844, 0.85859792],\n",
    "       [0.69736803, 0.09417735, 0.97562235],\n",
    "       [0.7611397 , 0.78606431, 0.12811363]])\n",
    "print(q) # це масив з попереднього завдання \n",
    "kx = np.corrcoef(q) # розрахунок кореляції для масиву q\n",
    "print(kx) \n",
    "# мене здивувала матриця коефіцієнтів кореляції для масиву q. Для перевірки я взяв масив із документації\n",
    "print(arry) \n",
    "ky = np.corrcoef(arry)\n",
    "print(ky)"
   ]
  },
  {
   "cell_type": "markdown",
   "metadata": {},
   "source": [
    "Дано матрицю. Знайти ранг матриці:"
   ]
  },
  {
   "cell_type": "code",
   "execution_count": 11,
   "metadata": {},
   "outputs": [
    {
     "name": "stdout",
     "output_type": "stream",
     "text": [
      "3\n"
     ]
    }
   ],
   "source": [
    "a = np.array([[ 1,  4, 5],\n",
    "              [7, 3, 2],\n",
    "              [9, 16, 1]])\n",
    "print(np.linalg.matrix_rank(a))"
   ]
  },
  {
   "cell_type": "markdown",
   "metadata": {},
   "source": [
    "Знайти визначник матриці:"
   ]
  },
  {
   "cell_type": "code",
   "execution_count": 12,
   "metadata": {},
   "outputs": [
    {
     "data": {
      "text/plain": [
       "440.0000000000002"
      ]
     },
     "execution_count": 12,
     "metadata": {},
     "output_type": "execute_result"
    }
   ],
   "source": [
    "np.linalg.det(a)"
   ]
  },
  {
   "cell_type": "markdown",
   "metadata": {},
   "source": [
    "Знайти власні значення та власні вектори матриці: "
   ]
  },
  {
   "cell_type": "code",
   "execution_count": 13,
   "metadata": {},
   "outputs": [
    {
     "data": {
      "text/plain": [
       "(array([14.13520334+0.j        , -4.56760167+3.20389947j,\n",
       "        -4.56760167-3.20389947j]),\n",
       " array([[ 0.43131913+0.j        , -0.31386258-0.47450898j,\n",
       "         -0.31386258+0.47450898j],\n",
       "        [ 0.41502436+0.j        , -0.07049527+0.4090732j ,\n",
       "         -0.07049527-0.4090732j ],\n",
       "        [ 0.8010734 +0.j        ,  0.7099444 +0.j        ,\n",
       "          0.7099444 -0.j        ]]))"
      ]
     },
     "execution_count": 13,
     "metadata": {},
     "output_type": "execute_result"
    }
   ],
   "source": [
    "np.linalg.eig(a)"
   ]
  },
  {
   "cell_type": "markdown",
   "metadata": {},
   "source": [
    "Знайдіть число, що найчастіше зустрічається в масиві:"
   ]
  },
  {
   "cell_type": "code",
   "execution_count": 14,
   "metadata": {},
   "outputs": [
    {
     "name": "stdout",
     "output_type": "stream",
     "text": [
      " Число 9 зустрічається у масиві найчастіше, а саме 2 разів\n"
     ]
    }
   ],
   "source": [
    "a = np.random.randint(0,10,50)\n",
    "\n",
    "b = np.unique(a, return_counts=True)\n",
    "\n",
    "print(f' Число {b[0][-1]} зустрічається у масиві найчастіше, а саме {b[1][-1]} разів')\n",
    "\n"
   ]
  },
  {
   "cell_type": "markdown",
   "metadata": {},
   "source": [
    "Виведіть лише парні числа, що діляться на 5:"
   ]
  },
  {
   "cell_type": "code",
   "execution_count": 15,
   "metadata": {},
   "outputs": [
    {
     "name": "stdout",
     "output_type": "stream",
     "text": [
      "[3 3 9 9 4 5 2 2 4 1 4 8 9 6 8 0 4 4 6 6 0 3 8 8 3 7 7 6 0 3 8 6 8 3 0 8 1\n",
      " 1 9 2 7 1 4 8 6 3 3 7 3 4]\n",
      "[0 0 0 0]\n"
     ]
    }
   ],
   "source": [
    "a = np.random.randint(0,10,50)\n",
    "print(a)\n",
    "b = a[(a%2 == 0) & (a%5 == 0)]\n",
    "print(b)"
   ]
  },
  {
   "cell_type": "markdown",
   "metadata": {},
   "source": [
    "Розв'яжіть систему рівнянь:\n",
    "$$2x + 5y = 1 $$\n",
    "\n",
    "$$x - 10y = 3  $$\n",
    "   "
   ]
  },
  {
   "cell_type": "code",
   "execution_count": 16,
   "metadata": {},
   "outputs": [
    {
     "name": "stdout",
     "output_type": "stream",
     "text": [
      "[ 1.  -0.2]\n"
     ]
    }
   ],
   "source": [
    "a = [[2, 5],\n",
    "     [1, -10]]\n",
    "b = [1,3]\n",
    "x = np.linalg.solve(a, b)\n",
    "print(x)"
   ]
  }
 ],
 "metadata": {
  "kernelspec": {
   "display_name": "Python 3",
   "language": "python",
   "name": "python3"
  },
  "language_info": {
   "codemirror_mode": {
    "name": "ipython",
    "version": 3
   },
   "file_extension": ".py",
   "mimetype": "text/x-python",
   "name": "python",
   "nbconvert_exporter": "python",
   "pygments_lexer": "ipython3",
   "version": "3.8.5"
  }
 },
 "nbformat": 4,
 "nbformat_minor": 2
}
