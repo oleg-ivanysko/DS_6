{
 "cells": [
  {
   "cell_type": "markdown",
   "metadata": {},
   "source": [
    "# **1. Markdown cells**\n",
    "\n",
    "* Hi! Its Main Academy?\n",
    "* All HTML tabs are supported!\n",
    "* Моя сторінка на [лінкедін](https://www.linkedin.com/in/oleh-ivanysko-5693431ba/)\n",
    "\n"
   ]
  },
  {
   "cell_type": "markdown",
   "metadata": {},
   "source": [
    "# **This is Heading1**"
   ]
  },
  {
   "cell_type": "markdown",
   "metadata": {},
   "source": [
    "## **This is Heading2**"
   ]
  },
  {
   "cell_type": "markdown",
   "metadata": {},
   "source": [
    "some gray colored text\n",
    "\n",
    "> This is where we can bring qoutes and present them nicely\n",
    "\n",
    "And this is the paragraph about something very importan. Even math:"
   ]
  },
  {
   "cell_type": "markdown",
   "metadata": {},
   "source": [
    "\\begin{equation}\n",
    "y_{sub}=\\sqrt{(x_{sub})}\n",
    "\\end{equation}"
   ]
  },
  {
   "cell_type": "markdown",
   "metadata": {},
   "source": [
    "Or python code example:  "
   ]
  },
  {
   "cell_type": "markdown",
   "metadata": {},
   "source": [
    "    import math\n",
    "    def foo():\n",
    "        return \"foo\""
   ]
  },
  {
   "cell_type": "markdown",
   "metadata": {},
   "source": [
    "Here is the sample mean:"
   ]
  },
  {
   "cell_type": "markdown",
   "metadata": {},
   "source": [
    "\\begin{equation}\n",
    "\\bar y = \\frac{1}{n} \\sum_{i=1}^n y_i\n",
    "\\end{equation}"
   ]
  },
  {
   "cell_type": "markdown",
   "metadata": {},
   "source": [
    "Here is the sample variance:"
   ]
  },
  {
   "cell_type": "markdown",
   "metadata": {},
   "source": [
    "\\begin{equation}\n",
    "\\sigma^2=\\frac{\\sum_{i=1}^n (y_i-\\bar y)^2}{n-1}\n",
    "\\end{equation}\n"
   ]
  },
  {
   "cell_type": "markdown",
   "metadata": {},
   "source": [
    "Here is the sample standart deviation:"
   ]
  },
  {
   "cell_type": "markdown",
   "metadata": {},
   "source": [
    "\\begin{equation}\n",
    "\\sigma^2=\\sqrt{\\frac{\\sum_{i=1}^n (y_i-\\bar y)^2}{n-1}}\n",
    "\\end{equation}"
   ]
  }
 ],
 "metadata": {
  "kernelspec": {
   "display_name": "Python 3",
   "language": "python",
   "name": "python3"
  },
  "language_info": {
   "codemirror_mode": {
    "name": "ipython",
    "version": 3
   },
   "file_extension": ".py",
   "mimetype": "text/x-python",
   "name": "python",
   "nbconvert_exporter": "python",
   "pygments_lexer": "ipython3",
   "version": "3.8.5"
  }
 },
 "nbformat": 4,
 "nbformat_minor": 4
}
