{
 "cells": [
  {
   "cell_type": "markdown",
   "metadata": {},
   "source": [
    "###### Завдання 1  \n",
    "    Задано деякі числа A та B (int):      \n",
    "       - Перевірити умову: \"Число A є додатнє\"  \n",
    "       - Перевірити умову: \"Число A парне\"  \n",
    "       - Перевірити умову: \"Число A кратне 13\"  \n",
    "       - Перевірити умову: \"Кожне із чисел A та B - парне\"  \n",
    "       - Перевірити умову: \"Кожне із чисел A та B мають однакову парність \""
   ]
  },
  {
   "cell_type": "code",
   "execution_count": 4,
   "metadata": {},
   "outputs": [
    {
     "name": "stdout",
     "output_type": "stream",
     "text": [
      "2\n",
      "Число A є додатнє (Так-True/Ні-False) - True\n"
     ]
    }
   ],
   "source": [
    "a = int(input())\n",
    "print('Число A є додатнє (Так-True/Ні-False)'+' - '+ str(a > 0))"
   ]
  },
  {
   "cell_type": "code",
   "execution_count": 6,
   "metadata": {},
   "outputs": [
    {
     "name": "stdout",
     "output_type": "stream",
     "text": [
      "3\n",
      "Число A є додатнє (Так-True/Ні-False) - False\n"
     ]
    }
   ],
   "source": [
    "a = int(input())\n",
    "print('Число A є додатнє (Так-True/Ні-False)'+' - '+ str(a%2 == 0))"
   ]
  },
  {
   "cell_type": "code",
   "execution_count": 10,
   "metadata": {},
   "outputs": [
    {
     "name": "stdout",
     "output_type": "stream",
     "text": [
      "25\n",
      "Число A кратне 13 (Так-True/Ні-False) - False\n"
     ]
    }
   ],
   "source": [
    "a = int(input())\n",
    "print('Число A кратне 13 (Так-True/Ні-False)'+' - '+ str(a%13 == 0))"
   ]
  },
  {
   "cell_type": "code",
   "execution_count": 4,
   "metadata": {},
   "outputs": [
    {
     "name": "stdout",
     "output_type": "stream",
     "text": [
      "1\n",
      "2\n",
      "Кожне із чисел A та B мають однакову парність (Так-True/Ні-False) - False\n"
     ]
    }
   ],
   "source": [
    "a = int(input())\n",
    "b = int(input())\n",
    "print('Кожне із чисел A та B - парне (Так-True/Ні-False)'+' - '+ str(a%2 == 0 and b%2 ==0))"
   ]
  },
  {
   "cell_type": "code",
   "execution_count": 13,
   "metadata": {},
   "outputs": [
    {
     "name": "stdout",
     "output_type": "stream",
     "text": [
      "0\n",
      "9\n",
      "Кожне із чисел A та B мають однакову парність (Так-True/Ні-False) - False\n"
     ]
    }
   ],
   "source": [
    "a = int(input())\n",
    "b = int(input())\n",
    "print('Кожне із чисел A та B мають однакову парність (Так-True/Ні-False)'+' - '+ str((a%2 == 0 and b%2 ==0) or (a%2 != 0 and b%2 !=0) ))"
   ]
  },
  {
   "cell_type": "markdown",
   "metadata": {},
   "source": [
    "###### Завдання 3  \n",
    "    Дано деякий символ Char. Вивести символи, що ідуть перед та після символу Char в кодовій таблиці ASCII"
   ]
  },
  {
   "cell_type": "code",
   "execution_count": 6,
   "metadata": {},
   "outputs": [
    {
     "name": "stdout",
     "output_type": "stream",
     "text": [
      "w\n",
      "119\n",
      "Значення змінної: 119\n",
      "Попереднє значення: v\n",
      "Наступне значення: x\n"
     ]
    }
   ],
   "source": [
    "a = str(input())\n",
    "print(ord(a))\n",
    "print(\"Значення змінної: \" + str(ord(a)))\n",
    "print(\"Попереднє значення: \" + chr(ord(a)-1))\n",
    "print(\"Наступне значення: \" + chr(ord(a)+1))\n"
   ]
  },
  {
   "cell_type": "markdown",
   "metadata": {},
   "source": [
    "###### Завдання 4  \n",
    "    Дана стрічка, що складається із двох слів розділених пробілом.  \n",
    "    Слова та порядок букв в словах поміняйте місцями.  \n",
    "    (Наприклад, \"One Two\" --> \"owT enO\")  "
   ]
  },
  {
   "cell_type": "code",
   "execution_count": 8,
   "metadata": {},
   "outputs": [
    {
     "name": "stdout",
     "output_type": "stream",
     "text": [
      "One Two\n",
      "owT enO\n"
     ]
    }
   ],
   "source": [
    "a =str(input())\n",
    "print(a[::-1])"
   ]
  }
 ],
 "metadata": {
  "kernelspec": {
   "display_name": "Python 3",
   "language": "python",
   "name": "python3"
  },
  "language_info": {
   "codemirror_mode": {
    "name": "ipython",
    "version": 3
   },
   "file_extension": ".py",
   "mimetype": "text/x-python",
   "name": "python",
   "nbconvert_exporter": "python",
   "pygments_lexer": "ipython3",
   "version": "3.8.5"
  }
 },
 "nbformat": 4,
 "nbformat_minor": 4
}
