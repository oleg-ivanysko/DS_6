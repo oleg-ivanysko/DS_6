{
 "cells": [
  {
   "cell_type": "markdown",
   "metadata": {},
   "source": [
    "На карантині я розпочав бігові тренування. В перший день пробіг 500 метрів. Кожний наступний день дистанцію збільшую на 10%. Відомо, що карантин триває 30 днів.\n",
    "\n",
    "    - Яку дистанцію я пробіжу в останній день карантину?\n",
    "\n",
    "    - Скільки днів потрібно бігати, щоб сумарна дистанція за всі дні \n",
    "        перевищила довжину марафону (42 км)?"
   ]
  },
  {
   "cell_type": "code",
   "execution_count": 55,
   "metadata": {},
   "outputs": [
    {
     "name": "stdout",
     "output_type": "stream",
     "text": [
      "Дистанція в останній день карантину складе - 7.93 км.\n",
      "\n",
      "Cумарна дистанція за 24 дні складе 44.25 км., \n",
      "що перевищує довжину марафону (42 км) на 2.25 км.\n"
     ]
    }
   ],
   "source": [
    "\n",
    "print(f'Дистанція в останній день карантину складе - {round(500/1000 * 1.1**29,2)} км.') \n",
    "\n",
    "res = 500\n",
    "pow = 1\n",
    "while res < 42000:\n",
    "    res = res + (500 * 1.1**pow)\n",
    "    pow += 1\n",
    "print('')\n",
    "print(f'''Cумарна дистанція за {pow} дні складе {round(res/1000, 2)} км., \n",
    "що перевищує довжину марафону (42 км) на {round(res/1000, 2) - 42} км.''') \n"
   ]
  }
 ],
 "metadata": {
  "kernelspec": {
   "display_name": "Python 3",
   "language": "python",
   "name": "python3"
  },
  "language_info": {
   "codemirror_mode": {
    "name": "ipython",
    "version": 3
   },
   "file_extension": ".py",
   "mimetype": "text/x-python",
   "name": "python",
   "nbconvert_exporter": "python",
   "pygments_lexer": "ipython3",
   "version": "3.8.5"
  }
 },
 "nbformat": 4,
 "nbformat_minor": 4
}
