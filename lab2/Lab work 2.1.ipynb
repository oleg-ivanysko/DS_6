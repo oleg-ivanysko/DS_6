{
 "cells": [
  {
   "cell_type": "markdown",
   "metadata": {},
   "source": [
    "___\n",
    "\n",
    "<a href='https://mainacademy.ua/'> <img src='https://mainacademy.ua/wp-content/uploads/2019/03/logo-main.png' alt = 'Хмм, щось з інтернетом'/></a>\n",
    "___\n",
    "\n",
    "# Module 2: Basic Python"
   ]
  },
  {
   "cell_type": "markdown",
   "metadata": {},
   "source": [
    "## Lab work 2.1\n",
    "\n"
   ]
  },
  {
   "cell_type": "markdown",
   "metadata": {},
   "source": [
    "#### Мета: \n",
    "\n",
    "* навчитися працювати із основними типами та структурами даних в Python;\n",
    "* ознайомитися із базовими алгоритмами;"
   ]
  },
  {
   "cell_type": "markdown",
   "metadata": {},
   "source": [
    "#### Завдання 1"
   ]
  },
  {
   "cell_type": "markdown",
   "metadata": {},
   "source": [
    "Обчислити площу трикутника, коли відома сторона та проведена висота до неї"
   ]
  },
  {
   "cell_type": "code",
   "execution_count": 1,
   "metadata": {},
   "outputs": [
    {
     "name": "stdout",
     "output_type": "stream",
     "text": [
      "Введіть сторону(основу) трикутника (a) ==> 67\n",
      "Введіть висоту трикутника (h) ==> 34\n",
      "Площа трикутнира (S) = 1139.0\n"
     ]
    }
   ],
   "source": [
    "a = int(input(\"Введіть сторону(основу) трикутника (a) ==> \"))\n",
    "h = int(input(\"Введіть висоту трикутника (h) ==> \"))\n",
    "print(f\"Площа трикутнира (S) = {(a*h) / 2}\")\n",
    "\n",
    "\n"
   ]
  },
  {
   "cell_type": "markdown",
   "metadata": {},
   "source": [
    "#### Завдання 2"
   ]
  },
  {
   "cell_type": "markdown",
   "metadata": {},
   "source": [
    "Дано трицифрове число. Виведіть окремо кожну цифру числа та суми цифр число\n",
    "\n",
    "Реалізуйте завдання двома способами (використовуючи стрічки та оператори `%`, `//`)"
   ]
  },
  {
   "cell_type": "code",
   "execution_count": 4,
   "metadata": {},
   "outputs": [
    {
     "name": "stdout",
     "output_type": "stream",
     "text": [
      "Введіть трицифрове число ==> 987\n",
      "Виведення окремої цифри - 9\n",
      "Виведення окремої цифри - 8\n",
      "Виведення окремої цифри - 7\n",
      "Сума цифр числа = 24\n"
     ]
    }
   ],
   "source": [
    "# Перший варіант\n",
    "N = input(\"Введіть трицифрове число ==> \")\n",
    "sum_ = 0\n",
    "for i in range(len(N)):\n",
    "    print(f\"Виведення окремої цифри - {N[i]}\")\n",
    "    sum_ += int(N[i])\n",
    "print(f\"Сума цифр числа = {sum_}\")\n",
    "    \n",
    "\n"
   ]
  },
  {
   "cell_type": "code",
   "execution_count": 5,
   "metadata": {},
   "outputs": [
    {
     "name": "stdout",
     "output_type": "stream",
     "text": [
      "Введіть трицифрове число ==> 987\n",
      "Виведення окремої цифри - 9\n",
      "Виведення окремої цифри - 8\n",
      "Виведення окремої цифри - 7\n",
      "Сума цифр числа = 24\n"
     ]
    }
   ],
   "source": [
    "# Другий варіант\n",
    "N = int(input(\"Введіть трицифрове число ==> \"))\n",
    "print(f\"Виведення окремої цифри - {N // 100}\")\n",
    "print(f\"Виведення окремої цифри - {(N % 100) // 10}\")\n",
    "print(f\"Виведення окремої цифри - {N % 10}\")\n",
    "\n",
    "print(f\"Сума цифр числа = {(N // 100)+((N % 100) // 10)+(N % 10)}\")\n",
    "\n",
    "\n",
    "\n"
   ]
  },
  {
   "cell_type": "code",
   "execution_count": 6,
   "metadata": {},
   "outputs": [
    {
     "name": "stdout",
     "output_type": "stream",
     "text": [
      "Введіть трицифрове число ==> 987\n",
      "Виведення окремої цифри - 9\n",
      "Виведення окремої цифри - 8\n",
      "Виведення окремої цифри - 7\n",
      "Сума цифр числа = 24\n"
     ]
    }
   ],
   "source": [
    "# Третій варіант\n",
    "N = input(\"Введіть трицифрове число ==> \")\n",
    "[print(f\"Виведення окремої цифри - {i}\")  for i in N]\n",
    "\n",
    "print(f\"Сума цифр числа = {sum([int(i) for i in N])}\")"
   ]
  },
  {
   "cell_type": "markdown",
   "metadata": {},
   "source": [
    "#### Завдання 3"
   ]
  },
  {
   "cell_type": "markdown",
   "metadata": {},
   "source": [
    "Дано речення (стрічка). \n",
    "* Розбийте речення по словах і помістіть їх у список. \n",
    "* Виведіть кількість слів у речені.\n",
    "* Утворіть нове речення, що складається з першого та останнього слова із початкового речення."
   ]
  },
  {
   "cell_type": "code",
   "execution_count": 7,
   "metadata": {},
   "outputs": [],
   "source": [
    "sentence = 'My favourite tutor in academy is Ihor'"
   ]
  },
  {
   "cell_type": "code",
   "execution_count": 8,
   "metadata": {},
   "outputs": [
    {
     "name": "stdout",
     "output_type": "stream",
     "text": [
      " Ваш список слів ==> ['My', 'favourite', 'tutor', 'in', 'academy', 'is', 'Ihor']\n"
     ]
    }
   ],
   "source": [
    "# Виводимо на екран список слів, з яких складається речення\n",
    "SentenceToList=sentence.split()\n",
    "print(f\" Ваш список слів ==> {SentenceToList}\")"
   ]
  },
  {
   "cell_type": "code",
   "execution_count": 9,
   "metadata": {},
   "outputs": [
    {
     "name": "stdout",
     "output_type": "stream",
     "text": [
      "Кількість слів у реченні = 7\n"
     ]
    }
   ],
   "source": [
    "# Виводимо на екран кількість слів у речені.\n",
    "print(f\"Кількість слів у реченні = {len(SentenceToList)}\")"
   ]
  },
  {
   "cell_type": "code",
   "execution_count": 10,
   "metadata": {},
   "outputs": [
    {
     "name": "stdout",
     "output_type": "stream",
     "text": [
      "My Ihor\n"
     ]
    }
   ],
   "source": [
    "# Виводимо нове речення, що складається з першого та останнього слова із початкового речення.\n",
    "print(SentenceToList[0], SentenceToList[-1], sep = ' ')\n"
   ]
  },
  {
   "cell_type": "markdown",
   "metadata": {},
   "source": [
    "#### Завдання 4"
   ]
  },
  {
   "cell_type": "markdown",
   "metadata": {},
   "source": [
    "Перевірте, чи справджується формула: $$ sin^2x + cos^2x = 1$$\n",
    "\n",
    "Напишіть код, що реалізує цю формулу. Нагадую, що тригонометричні функції приймають аргументи в радіанній мірі"
   ]
  },
  {
   "cell_type": "code",
   "execution_count": 16,
   "metadata": {},
   "outputs": [
    {
     "name": "stdout",
     "output_type": "stream",
     "text": [
      "Введіть значення x у градусах ==> 66\n",
      "Обраховуємо значення функції 𝑠𝑖𝑛2𝑥+𝑐𝑜𝑠2𝑥=1 для кута 66 градусів\n",
      "1\n"
     ]
    }
   ],
   "source": [
    "import math\n",
    "x = int(input(\"Введіть значення x у градусах ==> \"))\n",
    "print(f'Обраховуємо значення функції 𝑠𝑖𝑛2𝑥+𝑐𝑜𝑠2𝑥=1 для кута {x} градусів')\n",
    "print(round((math.sin(math.radians(x))**2)+(math.cos(math.radians(x))**2)))"
   ]
  },
  {
   "cell_type": "markdown",
   "metadata": {},
   "source": [
    "#### Завдання 5"
   ]
  },
  {
   "cell_type": "markdown",
   "metadata": {},
   "source": [
    "Напишіть програму для обчислення коренів квадратного рівняння.\n",
    "\n",
    "Нагадую, що `n`-го степеня має `n` коренів. (Корені можуть бути комплексні)"
   ]
  },
  {
   "cell_type": "code",
   "execution_count": 2,
   "metadata": {},
   "outputs": [
    {
     "name": "stdout",
     "output_type": "stream",
     "text": [
      "Введіть a ==> 2\n",
      "Введіть b ==> 66\n",
      "Введіть c ==> 6\n",
      "Квадратне рівняння має два корені:\n",
      "x1=-0.09\n",
      "x2=-32.91\n"
     ]
    }
   ],
   "source": [
    "import math\n",
    "a = int(input('Введіть a ==> '))\n",
    "b = int(input('Введіть b ==> '))\n",
    "c = int(input('Введіть c ==> '))\n",
    "D=(b**2)-(4*a*c)\n",
    "if D>0:\n",
    "    print('Квадратне рівняння має два корені:')\n",
    "    print(f\"x1={round((-b+math.sqrt(D))/(2*a),2)}\")\n",
    "    print(f\"x2={round((-b-math.sqrt(D))/(2*a),2)}\")\n",
    "elif D == 0:\n",
    "    print('Квадратне рівняння має однакові корені:')\n",
    "    print(f\"x1={round((-b+math.sqrt(D))/(2*a),2)}\")\n",
    "    print(f\"x2={round((-b-math.sqrt(D))/(2*a),2)}\")\n",
    "else:\n",
    "    print('Квадратне рівняння не має дійсних коренів:')\n",
    "    \n",
    "\n"
   ]
  },
  {
   "cell_type": "markdown",
   "metadata": {},
   "source": [
    "#### Завдання 6"
   ]
  },
  {
   "cell_type": "markdown",
   "metadata": {},
   "source": [
    "Напишіть програму, що виводить речення: <i>\"Діаметр планети `Planet` дорівнює` Diament`\"</i>, \n",
    "\n",
    "де `Planet` та `Diament` вводить користувач"
   ]
  },
  {
   "cell_type": "code",
   "execution_count": 4,
   "metadata": {},
   "outputs": [
    {
     "name": "stdout",
     "output_type": "stream",
     "text": [
      "Введіть назву планети ==> Luna\n",
      "Введіть діаметр планети ==> 3445\n",
      "Діаметр планети Luna дорівнює 3445\n"
     ]
    }
   ],
   "source": [
    "print(f\"Діаметр планети {input('Введіть назву планети ==> ')} дорівнює {input('Введіть діаметр планети ==> ')}\")"
   ]
  }
 ],
 "metadata": {
  "kernelspec": {
   "display_name": "Python 3",
   "language": "python",
   "name": "python3"
  },
  "language_info": {
   "codemirror_mode": {
    "name": "ipython",
    "version": 3
   },
   "file_extension": ".py",
   "mimetype": "text/x-python",
   "name": "python",
   "nbconvert_exporter": "python",
   "pygments_lexer": "ipython3",
   "version": "3.8.5"
  }
 },
 "nbformat": 4,
 "nbformat_minor": 2
}
