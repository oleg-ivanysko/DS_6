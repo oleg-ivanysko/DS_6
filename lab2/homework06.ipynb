{
 "cells": [
  {
   "cell_type": "markdown",
   "metadata": {},
   "source": [
    "Завдання 1\n",
    "\tВам потрібно отримати таку інформацію:\n",
    "\t\t- кількість товарних позицій у файлі\n",
    "\t\t- кількість товарних позицій, що в наявності\n",
    "    \t- ціна та назва найдорожчої товарної позиції \n",
    "\n",
    "Завдання 2\n",
    "\tІнформацію із файлу запишіть у словник, де ключем буде артикул, а значення для ключа - список, що містить три елементи: Найменування, Наявність, Ціна\n",
    "\tДаний словник серіалізуйте за допомогою бібліотеки:\n",
    "\t\t- pickle\n",
    "\t\t- json\n",
    "\tЗбережіть ці файли.\n",
    " \n",
    "  "
   ]
  },
  {
   "cell_type": "code",
   "execution_count": 1,
   "metadata": {},
   "outputs": [
    {
     "name": "stdout",
     "output_type": "stream",
     "text": [
      "Кількість товарних позицій у файлі  ==> 426\n",
      "Кількість товарних позицій, що в наявностіx ==> 353\n",
      "Найдорожча товарна позиція ==> Масло Liqui Moly TOP TEC 4600 5W-30 5л за ціною 1623.0 грн.\n",
      "Серіалізацію словника за допомогою бібліотеки pickle закінчено. Файл збережено!\n",
      "Серіалізацію словника за допомогою бібліотеки json закінчено. Файл збережено!\n"
     ]
    }
   ],
   "source": [
    "# Функція серіалізації словника за допомогою бібліотеки json.\n",
    "def json():\n",
    "    import json \n",
    "    file = create_db_from_txt()\n",
    "  \n",
    "    with open('db.json', 'w',  encoding='UTF-8') as f:\n",
    "        json.dump(file, f)\n",
    "        print(f'Серіалізацію словника за допомогою бібліотеки json закінчено. Файл збережено!')\n",
    "\n",
    "# Функція серіалізацію словника за допомогою бібліотеки pickle        \n",
    "def Serialization ():\n",
    "    import pickle\n",
    "    db = create_db_from_txt()\n",
    "    with open('pickle_file', 'wb') as f:\n",
    "        pickle.dump(db, f)\n",
    "        print(f'Серіалізацію словника за допомогою бібліотеки pickle закінчено. Файл збережено!')\n",
    "\n",
    "# Функція формування словника.\n",
    "def  create_db_from_txt ():\n",
    "    # Відкриття файлу з поточної директорії.\n",
    "    file = open('db_homework06.txt', encoding='UTF-8')\n",
    "    x=0\n",
    "    db = {}\n",
    "    # Формуємо словник. \n",
    "    for str in file:\n",
    "        # Конструкція If в цьому випадку відсікає першу стрічку.\n",
    "        if x!=0:  \n",
    "            rec=str.split('|')\n",
    "            # Прибираємо непотрібні символи ' грн\\n' зі стрічки \n",
    "            rec.pop(3)\n",
    "            w = float(str.split('|')[3].rstrip(' грн\\n'))\n",
    "            rec.append(w)\n",
    "            #  В якості ключа елемента словника використовуємо перший елемент списку. В якості значення всі інші елементи списку.\n",
    "            db[rec[0]]=list(rec[1:])\n",
    "        x=1\n",
    "\n",
    "    return db\n",
    "    \n",
    "    file.close()\n",
    "\n",
    "db = create_db_from_txt()\n",
    "#  Виводимо на екран кількість товарних позицій у файлі. \n",
    "print(f'Кількість товарних позицій у файлі  ==> {len(db.keys())}')\n",
    "\n",
    "# Рахуємо та виводимо на екран кількість товарних позицій, що в наявності.\n",
    "x=0\n",
    "for stock in db.values():\n",
    "    if stock[1] == 'В наличии':\n",
    "        x+=1         \n",
    "print(f'Кількість товарних позицій, що в наявностіx ==> {x}')\n",
    "\n",
    "# Шукаємо та виводимо ціну та назву найдорожчої товарної позиції. \n",
    "max_price = 0\n",
    "max_name = ('')\n",
    "for  item in db.values():\n",
    "    tmp_max_name = item[0]\n",
    "    tmp_max_price = item[2]\n",
    "    if tmp_max_price >= max_price:\n",
    "        max_price = tmp_max_price\n",
    "        max_name = tmp_max_name\n",
    "print(f'Найдорожча товарна позиція ==> {max_name} за ціною {max_price} грн.')\n",
    "\n",
    "Serialization ()\n",
    "\n",
    "json()"
   ]
  },
  {
   "cell_type": "markdown",
   "metadata": {},
   "source": [
    "Завдання 3\n",
    "\tВідкрийте серіалізований файл (що ви зробили вище). \n",
    "\tНапишіть програму, що запитує артикул товарної позиції, а повертає стрічку json\n",
    "\tПриклад програми:\n",
    "\n",
    "\t\t----------------**********----------------\n",
    "\t\tВведіть артикул запчастини:\n",
    "\n",
    "\t\t>>>>3963\n",
    "\t\t{'part' : '3963', 'name' : 'Очиститель двигателя (спрей) Liqui Moly 0.4л',  'status' : 'В наличии', 'price' :'277 грн'}\n",
    "\n",
    "  "
   ]
  },
  {
   "cell_type": "code",
   "execution_count": 2,
   "metadata": {},
   "outputs": [
    {
     "name": "stdout",
     "output_type": "stream",
     "text": [
      "----------------**********----------------\n",
      "Введіть артикул запчастини:  3963\n",
      "{'part': '3963', 'name': 'Очиститель двигателя (спрей) Liqui Moly 0.4л', 'status': 'В наличии', 'price': '277.0 грн'}\n"
     ]
    }
   ],
   "source": [
    "import json\n",
    "val=[]\n",
    "# Відкриваємо серіалізований json файл. \n",
    "with open('db.json', 'r',  encoding='UTF-8') as f:\n",
    "    text=json.load(f)\n",
    "    \n",
    "    # Вводимо артикул, інформацію по якому бажаємо знайти. \n",
    "    print('----------------**********----------------')\n",
    "    text_key=input('Введіть артикул запчастини:  ')\n",
    "    \n",
    "    # Формуємо словник, елементи якого відповідають артиклю, інформацію по якому шукаємо. \n",
    "    val.append(text_key)\n",
    "    val=val+text.get(text_key)\n",
    "     \n",
    "    # До останнього елемента словника додаємо скорочену назву валюти. \n",
    "    val.append(str(val.pop(-1))+' грн')\n",
    "  \n",
    "    # Формуємо та повертаємо стрічку json. \n",
    "    res ={'part':val[0],'name':val[1],'status':val[2],'price':val[3]}\n",
    "    print(res)\n",
    "    "
   ]
  },
  {
   "cell_type": "markdown",
   "metadata": {},
   "source": [
    "Завдання 4\n",
    "\tЗнайдіть всі товари, у яких аромат яблука, та виведіть їх. \n",
    "\t(Врахуйте що слово \"яблоко\" може відмінятися в залежності від речення)"
   ]
  },
  {
   "cell_type": "code",
   "execution_count": null,
   "metadata": {},
   "outputs": [],
   "source": [
    "import json\n",
    "val=[]\n",
    "with open('db.json', 'r',  encoding='UTF-8') as f:\n",
    "    text=json.load(f)\n",
    "    print('Перелик товарів, з ароматом яблук:')\n",
    "    for st in text.values():\n",
    "        \n",
    "        if st[0].find('яблок')>0:\n",
    "            print(st)"
   ]
  }
 ],
 "metadata": {
  "kernelspec": {
   "display_name": "Python 3",
   "language": "python",
   "name": "python3"
  },
  "language_info": {
   "codemirror_mode": {
    "name": "ipython",
    "version": 3
   },
   "file_extension": ".py",
   "mimetype": "text/x-python",
   "name": "python",
   "nbconvert_exporter": "python",
   "pygments_lexer": "ipython3",
   "version": "3.8.5"
  }
 },
 "nbformat": 4,
 "nbformat_minor": 4
}
